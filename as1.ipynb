{
  "nbformat": 4,
  "nbformat_minor": 0,
  "metadata": {
    "colab": {
      "provenance": []
    },
    "kernelspec": {
      "name": "python3",
      "display_name": "Python 3"
    },
    "language_info": {
      "name": "python"
    }
  },
  "cells": [
    {
      "cell_type": "code",
      "execution_count": null,
      "metadata": {
        "colab": {
          "base_uri": "https://localhost:8080/"
        },
        "id": "9zQhwUuOIyGZ",
        "outputId": "2bc36ff7-29b2-42d0-fe05-3b84b52995a8"
      },
      "outputs": [
        {
          "output_type": "stream",
          "name": "stdout",
          "text": [
            "hello,world!\n"
          ]
        }
      ],
      "source": [
        "#1)hello world\n",
        "\n",
        "a=\"hello,world!\"\n",
        "print(a)"
      ]
    },
    {
      "cell_type": "code",
      "source": [
        "#2) print name and age !\n",
        "\n",
        "print(\"enter your name:\")\n",
        "x=input()\n",
        "print (\"how old are you?\")\n",
        "y=input()\n",
        "print(\"hey \"+x,\"you are -\"+y,\"years old !\")"
      ],
      "metadata": {
        "colab": {
          "base_uri": "https://localhost:8080/"
        },
        "id": "bk9TTBnZI3cx",
        "outputId": "331373f2-45b5-4971-ddaf-21e291610c98"
      },
      "execution_count": null,
      "outputs": [
        {
          "output_type": "stream",
          "name": "stdout",
          "text": [
            "enter your name:\n",
            "ANUDEEP\n",
            "how old are you?\n",
            "29\n",
            "hey ANUDEEP you are -29 years old !\n"
          ]
        }
      ]
    },
    {
      "cell_type": "code",
      "source": [
        "#3) predefined keywords in python\n",
        "\n",
        "import keyword        # importing keywords from library\n",
        "a=keyword.kwlist\n",
        "print(\"the predefined keywords are : \",a)"
      ],
      "metadata": {
        "colab": {
          "base_uri": "https://localhost:8080/"
        },
        "id": "B7a7sAmUI74t",
        "outputId": "76e60502-a8fd-4e93-8b21-8ecf7dac3c7d"
      },
      "execution_count": null,
      "outputs": [
        {
          "output_type": "stream",
          "name": "stdout",
          "text": [
            "the predefined keywords are :  ['False', 'None', 'True', 'and', 'as', 'assert', 'async', 'await', 'break', 'class', 'continue', 'def', 'del', 'elif', 'else', 'except', 'finally', 'for', 'from', 'global', 'if', 'import', 'in', 'is', 'lambda', 'nonlocal', 'not', 'or', 'pass', 'raise', 'return', 'try', 'while', 'with', 'yield']\n"
          ]
        }
      ]
    },
    {
      "cell_type": "code",
      "source": [
        "#4)check the input words are python keywords\n",
        "\n",
        "import keyword\n",
        "x=keyword.kwlist     # passing all the keywords into x\n",
        "\n",
        "print(\"enter your word to check for python keywords\")\n",
        "a=input()\n",
        "if a in x:           # checking condition for  input in keywords\n",
        "  print(\"you r right ! u entered  '\"+a,\"' ,which is a python keyword!\")\n",
        "else:\n",
        "  print(\"hey'amigoo' u enterd a wrong button,pls try again ...\")"
      ],
      "metadata": {
        "colab": {
          "base_uri": "https://localhost:8080/"
        },
        "id": "oLLQ1UAYJl5F",
        "outputId": "2d29f90a-ebea-4f51-9872-25462ea12ed9"
      },
      "execution_count": null,
      "outputs": [
        {
          "output_type": "stream",
          "name": "stdout",
          "text": [
            "enter your word to check for python keywords\n",
            "assert\n",
            "you r right ! u entered  'assert ' ,which is a python keyword!\n"
          ]
        }
      ]
    },
    {
      "cell_type": "code",
      "source": [
        "\n",
        " #5)Create a list and tuple in Python, and demonstrate how attempting to change an element works differently\n",
        "\n",
        " a=[1,2,3,4,5,6]\n",
        " b=(8,3,4,\"a\")\n",
        " print(type(a)) #type printing\n",
        " print(type(b))\n",
        "\n",
        " '''\n",
        " list - changing elements of list\n",
        " tuple- changing elements of tuple\n",
        " '''\n",
        "\n",
        " a.append(15) # add nmber\n",
        " a[-2]=44 #interchanging number\n",
        " a.remove(2)    # removing from list\n",
        " print(\" successfully modified list\",a)\n",
        "\n",
        "print(\"trying to modify a tuple :\")\n",
        "try:\n",
        "   b[2]=5\n",
        "except TypeError:\n",
        "   print(\"error occured while trying to modify tuple\")\n",
        "\n"
      ],
      "metadata": {
        "colab": {
          "base_uri": "https://localhost:8080/"
        },
        "id": "azjjNhO2JrHN",
        "outputId": "d31938a4-fae2-4df9-876d-db3c9a2e7187"
      },
      "execution_count": null,
      "outputs": [
        {
          "output_type": "stream",
          "name": "stdout",
          "text": [
            "<class 'list'>\n",
            "<class 'tuple'>\n",
            " successfully modified list [1, 3, 4, 5, 44, 15]\n",
            "trying to modify a tuple :\n",
            "error occured while trying to modify tuple\n"
          ]
        }
      ]
    },
    {
      "cell_type": "code",
      "source": [
        "# 6) same # 7) Write a function to demonstrate the behavior of mutable and immutable arguments\n",
        "\n",
        "\n",
        "box=(1,'pens','boxes')   #tuple\n",
        "name=[1,2,3,4,'nani']   #list\n",
        "\n",
        "def mut_list():\n",
        "   name.append(\"danasi\") # adding elements\n",
        "   name[4]='anudeep'   # updation\n",
        "   name.insert(2,88)   #inserting elements\n",
        "   name.remove(3)     # removing elements\n",
        "\n",
        "mut_list()             # function call\n",
        "print(\"the modified list :\",name)\n",
        "\n",
        "\n",
        "\n",
        "def mut_tuple():         #fuction defining\n",
        "   try:\n",
        "    box[2]=5\n",
        "   except TypeError:\n",
        "     print(\"error occured--hence cannot modify a tuple\")\n",
        "\n",
        "mut_tuple()\n",
        "\n"
      ],
      "metadata": {
        "colab": {
          "base_uri": "https://localhost:8080/"
        },
        "id": "Ulo7pFPUJ1g-",
        "outputId": "4212c007-76d2-4f72-e84c-7b96c9487dd9"
      },
      "execution_count": null,
      "outputs": [
        {
          "output_type": "stream",
          "name": "stdout",
          "text": [
            "the modified list : [1, 2, 88, 4, 'anudeep', 'danasi']\n",
            "error occured--hence cannot modify a tuple\n"
          ]
        }
      ]
    },
    {
      "cell_type": "code",
      "source": [
        "# 8)program for logical operators & | not\n",
        "\n",
        "print(\" for logical & enter value of a:\")\n",
        "a=int(input())\n",
        "print(\"enter value of b:\")\n",
        "b=int(input())\n",
        "print(type(a))\n",
        "\n",
        "if a > 4 and b > 4 :   # and operator\n",
        " print(\"yes --> entered values are greater than 4 .\")\n",
        "else:\n",
        " print(\"no --> one of entered values or both entered values are lessthan  or equal to 4 \")\n",
        "\n",
        " # logical or operator\n",
        "print(\" for logical or  enter value of a:\")\n",
        "a=int(input())\n",
        "print(\"enter value of b:\")\n",
        "b=int(input())\n",
        "print(type(a),(b))\n",
        "if a > 4 or b > 4 :  # or operator\n",
        " print(\"yes --> one of entered values or  both are greater than 4 \")\n",
        "else:\n",
        " print(\"no --> none of entered values are greater than 4 \")\n",
        "\n",
        "\n",
        " #logical not\n",
        "x = False\n",
        "print(\"the opposite of false is\",not x)\n",
        "x = True\n",
        "print(\"the opposite of true is \",not x)\n"
      ],
      "metadata": {
        "colab": {
          "base_uri": "https://localhost:8080/"
        },
        "id": "c65LCTsqLAYf",
        "outputId": "372303f9-aa7e-4f9a-d401-c0e327a0325f"
      },
      "execution_count": null,
      "outputs": [
        {
          "output_type": "stream",
          "name": "stdout",
          "text": [
            " for logical & enter value of a:\n",
            "6\n",
            "enter value of b:\n",
            "2\n",
            "<class 'int'>\n",
            "no --> one of entered values or both entered values are lessthan  or equal to 4 \n",
            " for logical or  enter value of a:\n",
            "22\n",
            "enter value of b:\n",
            "2\n",
            "<class 'int'> 2\n",
            "yes --> one of entered values or  both are greater than 4 \n",
            "the opposite of false is True\n",
            "the opposite of true is  False\n"
          ]
        }
      ]
    },
    {
      "cell_type": "code",
      "source": [
        "# 9)Write a Python program to convert user input from string to integer, float, and boolean types\n",
        "\n",
        "print(\"enter a number :\" )   #string conversion to integer\n",
        "x=(input())\n",
        "print(x,type(x))\n",
        "print(\"the entered string \",x,\"  is now converted into  integer-->\",str(x))\n",
        "print(\"the entered string \",x,\"  is now converted into  float-->\",float(x))\n",
        "\n",
        "\n",
        "print(\"enter a float number\")  # float to int conversion\n",
        "y=float(input())\n",
        "print(y,type(y))\n",
        "print(\"the  entered  float\",y,\"is now converted to integer\",int(y))\n",
        "print(\"the entered float \",y,\"  is now converted into  string-->\",str(y))\n",
        "\n",
        "#boolean\n",
        "#boolean\n",
        "print(\"enter words\")\n",
        "z=input()\n",
        "print(type(z))\n",
        "if bool(z)==True:\n",
        "  print(\"you enetered a boolean \",bool(z))\n",
        "else:\n",
        "  print(\"u didnot enter anything hence it is \",bool(0))"
      ],
      "metadata": {
        "colab": {
          "base_uri": "https://localhost:8080/"
        },
        "id": "FyMmJoaBLFX0",
        "outputId": "bcf17293-c985-4bb2-a3b5-be044cc5a6b7"
      },
      "execution_count": null,
      "outputs": [
        {
          "output_type": "stream",
          "name": "stdout",
          "text": [
            "enter a number :\n",
            "23\n",
            "23 <class 'str'>\n",
            "the entered string  23   is now converted into  integer--> 23\n",
            "the entered string  23   is now converted into  float--> 23.0\n",
            "enter a float number\n",
            "29.63\n",
            "29.63 <class 'float'>\n",
            "the  entered  float 29.63 is now converted to integer 29\n",
            "the entered float  29.63   is now converted into  string--> 29.63\n",
            "enter words\n",
            "hi nani\n",
            "<class 'str'>\n",
            "you enetered a boolean  True\n"
          ]
        }
      ]
    },
    {
      "cell_type": "code",
      "source": [
        "#10)Write code to demonstrate type casting with list elements\n",
        "\n",
        "a=[1,2,3.99,'nani']  #defining a list with  different elements\n",
        "print(\"elements of list before casting\",a)\n",
        "def fun():             # functions to casting elements of a list\n",
        "   a[0]=str(a[0])     #int to string\n",
        "   a[1]=float(a[1])    #int to float\n",
        "   a[2]=int(a[2])     #float to int\n",
        "\n",
        "\n",
        "fun()\n",
        "print(\"elements of list after casting\",a)\n"
      ],
      "metadata": {
        "colab": {
          "base_uri": "https://localhost:8080/"
        },
        "id": "8J4-6CLgMzy0",
        "outputId": "656c47db-3072-44a4-b1c3-71281ebe81d7"
      },
      "execution_count": null,
      "outputs": [
        {
          "output_type": "stream",
          "name": "stdout",
          "text": [
            "elements of list before casting [1, 2, 3.99, 'nani']\n",
            "elements of list after casting ['1', 2.0, 3, 'nani']\n"
          ]
        }
      ]
    },
    {
      "cell_type": "code",
      "source": [
        "# 11) Write a program that checks if a number is positive, negative, or zero\n",
        "\n",
        "print('enter a nmber')\n",
        "x=int(input())\n",
        "if x>0:        # positive check\n",
        "  print(\"the number is positive\")\n",
        "elif x<0:      # negitive check\n",
        "      print(\"the number is negitive\")\n",
        "else:\n",
        "  print(\"the number is zero\")"
      ],
      "metadata": {
        "colab": {
          "base_uri": "https://localhost:8080/"
        },
        "id": "HZ2ufdJ3LlK_",
        "outputId": "d9a36117-b523-4943-b135-7d04e402f2f3"
      },
      "execution_count": null,
      "outputs": [
        {
          "output_type": "stream",
          "name": "stdout",
          "text": [
            "enter a nmber\n",
            "-53\n",
            "the number is negitive\n"
          ]
        }
      ]
    },
    {
      "cell_type": "code",
      "source": [
        "#12)for loop to print 1 to 10\n",
        "\n",
        "for x in range (1,11):\n",
        "   print(x)\n",
        "print(\"we can also print in single line\")\n",
        "for x in range (1,11):\n",
        "  print(x,end=' ')\n"
      ],
      "metadata": {
        "colab": {
          "base_uri": "https://localhost:8080/"
        },
        "id": "6H4BBkyXL6Ab",
        "outputId": "f883ee97-838d-48fc-943e-fb94c1d2987a"
      },
      "execution_count": null,
      "outputs": [
        {
          "output_type": "stream",
          "name": "stdout",
          "text": [
            "1\n",
            "2\n",
            "3\n",
            "4\n",
            "5\n",
            "6\n",
            "7\n",
            "8\n",
            "9\n",
            "10\n",
            "we can also print in single line\n",
            "1 2 3 4 5 6 7 8 9 10 "
          ]
        }
      ]
    },
    {
      "cell_type": "code",
      "source": [
        "#13)  Write a Python program to find the sum of all even numbers between 1 and 50\n",
        "a=1\n",
        "sum=0\n",
        "while a <51 :\n",
        "  if a%2==0:\n",
        "     sum=sum+a\n",
        "  a+=1\n",
        "print(sum)"
      ],
      "metadata": {
        "colab": {
          "base_uri": "https://localhost:8080/"
        },
        "id": "eiuB6xhzL-F1",
        "outputId": "3a5badf8-d44d-4d93-c214-d5180249bf41"
      },
      "execution_count": null,
      "outputs": [
        {
          "output_type": "stream",
          "name": "stdout",
          "text": [
            "650\n"
          ]
        }
      ]
    },
    {
      "cell_type": "code",
      "source": [
        "# 14) Write a program to reverse a string using a while loop\n",
        "\n",
        "c=[]  #creating empty list\n",
        "print(\"enter the words\")\n",
        "x=input() # taking strings into input\n",
        "print(type(x))\n",
        "c.append(x)  # filling empty list c with given user input\n",
        "for i in c:    # slicing single 'word' into  letters 'w','o','r','d'\n",
        "  print(type(c),type(i))  # checking types after slicing\n",
        "  print(\"entered word consists of \",len(i),\"letters\")\n",
        "  x=len(i)\n",
        "  z=[]\n",
        "  while x>0:   #while loop\n",
        "    print(i[x-1])\n",
        "    z.append(i[x-1])    #passing values into empty list z ,.in each iteration it stores values\n",
        "    x=x-1     #iteration\n",
        "print(\"the stored values in z:\",z)\n",
        "\n",
        "#we can use string operation to reverse\n",
        "a=(input(\"ur words :\"))\n",
        "print(a[::-1])\n",
        "\n"
      ],
      "metadata": {
        "colab": {
          "base_uri": "https://localhost:8080/"
        },
        "id": "OEZvs3rFMDJ6",
        "outputId": "62560098-6301-4ff7-a68f-7b576a560ab2"
      },
      "execution_count": null,
      "outputs": [
        {
          "output_type": "stream",
          "name": "stdout",
          "text": [
            "enter the words\n",
            "hello pw skills\n",
            "<class 'str'>\n",
            "<class 'list'> <class 'str'>\n",
            "entered word consists of  15 letters\n",
            "s\n",
            "l\n",
            "l\n",
            "i\n",
            "k\n",
            "s\n",
            " \n",
            "w\n",
            "p\n",
            " \n",
            "o\n",
            "l\n",
            "l\n",
            "e\n",
            "h\n",
            "the stored values in z: ['s', 'l', 'l', 'i', 'k', 's', ' ', 'w', 'p', ' ', 'o', 'l', 'l', 'e', 'h']\n",
            "ur words :hi there\n",
            "ereht ih\n"
          ]
        }
      ]
    },
    {
      "cell_type": "code",
      "source": [
        "#15)factorial number using  while loop\n",
        "fact=1\n",
        "z=1\n",
        "n=(int(input(\"enter the number\")))\n",
        "print(n)\n",
        "while z <=n:\n",
        "  fact=fact*z\n",
        "  z=z+1\n",
        "print(\"the factorial number of\",n,\"is\",fact)"
      ],
      "metadata": {
        "colab": {
          "base_uri": "https://localhost:8080/"
        },
        "id": "UZybZfBKX8bS",
        "outputId": "2f9f80af-7ca6-4577-ee56-b593b78973ab"
      },
      "execution_count": 1,
      "outputs": [
        {
          "output_type": "stream",
          "name": "stdout",
          "text": [
            "enter the number4\n",
            "4\n",
            "the factorial number of 4 is 24\n"
          ]
        }
      ]
    },
    {
      "cell_type": "code",
      "source": [],
      "metadata": {
        "id": "0lk2k4DRUMmn"
      },
      "execution_count": null,
      "outputs": []
    }
  ]
}